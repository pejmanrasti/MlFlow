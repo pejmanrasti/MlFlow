{
 "cells": [
  {
   "cell_type": "code",
   "execution_count": 1,
   "id": "5bf8711f-4b35-4859-bcbe-f1863f81769d",
   "metadata": {},
   "outputs": [],
   "source": [
    "import tensorflow as tf\n",
    "from tensorflow.keras import layers, models\n",
    "from tensorflow.keras.datasets import mnist\n",
    "import mlflow\n",
    "import mlflow.tensorflow\n",
    "from concurrent.futures import ThreadPoolExecutor\n",
    "\n",
    "# Enable auto-logging to MLflow to capture TensorFlow training runs\n",
    "mlflow.tensorflow.autolog()"
   ]
  },
  {
   "cell_type": "code",
   "execution_count": 2,
   "id": "2446be6d-dc3f-4a0a-a51d-4b421d59bc32",
   "metadata": {},
   "outputs": [],
   "source": [
    "# Load and preprocess the MNIST dataset\n",
    "(x_train, y_train), (x_test, y_test) = mnist.load_data()\n",
    "x_train, x_test = x_train / 255.0, x_test / 255.0  # Normalize pixel values to [0, 1]\n",
    "x_train = x_train.reshape(-1, 28, 28, 1)\n",
    "x_test = x_test.reshape(-1, 28, 28, 1)"
   ]
  },
  {
   "cell_type": "code",
   "execution_count": 3,
   "id": "e386cbb9-2716-44d6-9dd1-a9e5b7acd5a4",
   "metadata": {},
   "outputs": [],
   "source": [
    "# Define multiple configurations for hyperparameters\n",
    "configurations = [\n",
    "    {\"optimizer\": \"adam\", \"epochs\": 2, \"filters\": 32, \"num_layers\": 2},\n",
    "    {\"optimizer\": \"sgd\", \"epochs\": 2, \"filters\": 64, \"num_layers\": 3},\n",
    "    {\"optimizer\": \"rmsprop\", \"epochs\": 2, \"filters\": 16, \"num_layers\": 1}\n",
    "]\n"
   ]
  },
  {
   "cell_type": "code",
   "execution_count": 4,
   "id": "1fce3fce-4d82-4725-86a2-93f6f791934d",
   "metadata": {},
   "outputs": [],
   "source": [
    "# Function to create the model with variable filters and layers\n",
    "def create_model(filters, num_layers):\n",
    "    model = models.Sequential()\n",
    "    model.add(layers.Conv2D(filters, (3, 3), activation='relu', input_shape=(28, 28, 1)))\n",
    "    model.add(layers.MaxPooling2D((2, 2)))\n",
    "    \n",
    "    # Add additional layers based on the num_layers parameter\n",
    "    for _ in range(num_layers - 1):\n",
    "        model.add(layers.Conv2D(filters * 2, (3, 3), activation='relu'))\n",
    "        model.add(layers.MaxPooling2D((2, 2)))\n",
    "    \n",
    "    model.add(layers.Flatten())\n",
    "    model.add(layers.Dense(64, activation='relu'))\n",
    "    model.add(layers.Dense(10, activation='softmax'))\n",
    "    return model"
   ]
  },
  {
   "cell_type": "code",
   "execution_count": 5,
   "id": "cb8faa7e-1c73-4478-984c-4c1af691bbfa",
   "metadata": {},
   "outputs": [],
   "source": [
    "# Define a function to train a model with a given configuration\n",
    "def train_model(config):\n",
    "    optimizer = config[\"optimizer\"]\n",
    "    epochs = config[\"epochs\"]\n",
    "    filters = config[\"filters\"]\n",
    "    num_layers = config[\"num_layers\"]\n",
    "    \n",
    "    # Create the model based on filters and layers configuration\n",
    "    model = create_model(filters, num_layers)\n",
    "\n",
    "    # Start MLflow experiment\n",
    "    mlflow.set_experiment(\"mnist_classification_Pejman\")\n",
    "\n",
    "    with mlflow.start_run():\n",
    "        # Log parameters\n",
    "        mlflow.log_param(\"optimizer\", optimizer)\n",
    "        mlflow.log_param(\"epochs\", epochs)\n",
    "        mlflow.log_param(\"filters\", filters)\n",
    "        mlflow.log_param(\"num_layers\", num_layers)\n",
    "        mlflow.log_param(\"Author\", \"Pejman\")\n",
    "\n",
    "        # Compile the model with the specific optimizer\n",
    "        model.compile(optimizer=optimizer,\n",
    "                      loss='sparse_categorical_crossentropy',\n",
    "                      metrics=['accuracy'])\n",
    "\n",
    "        # Train the model\n",
    "        model.fit(x_train, y_train, epochs=epochs, validation_data=(x_test, y_test))\n",
    "\n",
    "        # Evaluate the model\n",
    "        test_loss, test_acc = model.evaluate(x_test, y_test, verbose=2)\n",
    "\n",
    "        # Log metrics\n",
    "        mlflow.log_metric(\"test_loss\", test_loss)\n",
    "        mlflow.log_metric(\"test_accuracy\", test_acc)\n",
    "\n",
    "        # Log the model with a name based on the configuration\n",
    "        model_name = f\"mnist_model_{optimizer}_{epochs}_epochs_{filters}_filters_{num_layers}_layers\"\n",
    "        mlflow.tensorflow.log_model(model, artifact_path=model_name)\n",
    "\n",
    "        print(f\"Finished training with optimizer={optimizer}, epochs={epochs}, filters={filters}, num_layers={num_layers}\")"
   ]
  },
  {
   "cell_type": "code",
   "execution_count": 6,
   "id": "31a045f0-ec22-4d99-abf7-5ebfa4db9e52",
   "metadata": {},
   "outputs": [
    {
     "name": "stderr",
     "output_type": "stream",
     "text": [
      "2024/09/16 09:33:30 INFO mlflow.tracking.fluent: Experiment with name 'mnist_classification_Pejman' does not exist. Creating a new experiment.\n"
     ]
    },
    {
     "name": "stdout",
     "output_type": "stream",
     "text": [
      "Epoch 1/2\n"
     ]
    },
    {
     "name": "stderr",
     "output_type": "stream",
     "text": [
      "2024-09-16 09:33:30.735230: W tensorflow/tsl/platform/profile_utils/cpu_utils.cc:128] Failed to get CPU frequency: 0 Hz\n"
     ]
    },
    {
     "name": "stdout",
     "output_type": "stream",
     "text": [
      "1875/1875 [==============================] - 15s 8ms/step - loss: 0.1493 - accuracy: 0.9544 - val_loss: 0.0529 - val_accuracy: 0.9845\n",
      "Epoch 2/2\n",
      "1875/1875 [==============================] - 15s 8ms/step - loss: 0.0498 - accuracy: 0.9847 - val_loss: 0.0403 - val_accuracy: 0.9868\n",
      "1/1 [==============================] - 0s 51ms/step\n"
     ]
    },
    {
     "name": "stderr",
     "output_type": "stream",
     "text": [
      "WARNING:absl:Found untraced functions such as _jit_compiled_convolution_op, _jit_compiled_convolution_op while saving (showing 2 of 2). These functions will not be directly callable after loading.\n"
     ]
    },
    {
     "name": "stdout",
     "output_type": "stream",
     "text": [
      "INFO:tensorflow:Assets written to: /var/folders/jr/24zqc_wx7m7bq37h2_n26wbw0000gn/T/tmpazbycyr9/model/data/model/assets\n"
     ]
    },
    {
     "name": "stderr",
     "output_type": "stream",
     "text": [
      "INFO:tensorflow:Assets written to: /var/folders/jr/24zqc_wx7m7bq37h2_n26wbw0000gn/T/tmpazbycyr9/model/data/model/assets\n"
     ]
    },
    {
     "name": "stdout",
     "output_type": "stream",
     "text": [
      "313/313 - 1s - loss: 0.0403 - accuracy: 0.9868 - 882ms/epoch - 3ms/step\n"
     ]
    },
    {
     "name": "stderr",
     "output_type": "stream",
     "text": [
      "2024/09/16 09:34:05 WARNING mlflow.tensorflow: You are saving a TensorFlow Core model or Keras model without a signature. Inference with mlflow.pyfunc.spark_udf() will not work unless the model's pyfunc representation accepts pandas DataFrames as inference inputs.\n",
      "WARNING:absl:Found untraced functions such as _jit_compiled_convolution_op, _jit_compiled_convolution_op while saving (showing 2 of 2). These functions will not be directly callable after loading.\n"
     ]
    },
    {
     "name": "stdout",
     "output_type": "stream",
     "text": [
      "INFO:tensorflow:Assets written to: /var/folders/jr/24zqc_wx7m7bq37h2_n26wbw0000gn/T/tmp3u_vca4y/model/data/model/assets\n"
     ]
    },
    {
     "name": "stderr",
     "output_type": "stream",
     "text": [
      "INFO:tensorflow:Assets written to: /var/folders/jr/24zqc_wx7m7bq37h2_n26wbw0000gn/T/tmp3u_vca4y/model/data/model/assets\n",
      "2024/09/16 09:34:08 WARNING mlflow.models.model: Model logged without a signature and input example. Please set `input_example` parameter when logging the model to auto infer the model signature.\n"
     ]
    },
    {
     "name": "stdout",
     "output_type": "stream",
     "text": [
      "Finished training with optimizer=adam, epochs=2, filters=32, num_layers=2\n",
      "Epoch 1/2\n",
      "1875/1875 [==============================] - 32s 17ms/step - loss: 0.7191 - accuracy: 0.7825 - val_loss: 0.2212 - val_accuracy: 0.9245\n",
      "Epoch 2/2\n",
      "1875/1875 [==============================] - 37s 19ms/step - loss: 0.1691 - accuracy: 0.9475 - val_loss: 0.1317 - val_accuracy: 0.9607\n",
      "1/1 [==============================] - 0s 39ms/step\n"
     ]
    },
    {
     "name": "stderr",
     "output_type": "stream",
     "text": [
      "WARNING:absl:Found untraced functions such as _jit_compiled_convolution_op, _jit_compiled_convolution_op, _jit_compiled_convolution_op while saving (showing 3 of 3). These functions will not be directly callable after loading.\n"
     ]
    },
    {
     "name": "stdout",
     "output_type": "stream",
     "text": [
      "INFO:tensorflow:Assets written to: /var/folders/jr/24zqc_wx7m7bq37h2_n26wbw0000gn/T/tmpmthl1ydh/model/data/model/assets\n"
     ]
    },
    {
     "name": "stderr",
     "output_type": "stream",
     "text": [
      "INFO:tensorflow:Assets written to: /var/folders/jr/24zqc_wx7m7bq37h2_n26wbw0000gn/T/tmpmthl1ydh/model/data/model/assets\n"
     ]
    },
    {
     "name": "stdout",
     "output_type": "stream",
     "text": [
      "313/313 - 2s - loss: 0.1317 - accuracy: 0.9607 - 2s/epoch - 6ms/step\n"
     ]
    },
    {
     "name": "stderr",
     "output_type": "stream",
     "text": [
      "2024/09/16 09:35:22 WARNING mlflow.tensorflow: You are saving a TensorFlow Core model or Keras model without a signature. Inference with mlflow.pyfunc.spark_udf() will not work unless the model's pyfunc representation accepts pandas DataFrames as inference inputs.\n",
      "WARNING:absl:Found untraced functions such as _jit_compiled_convolution_op, _jit_compiled_convolution_op, _jit_compiled_convolution_op while saving (showing 3 of 3). These functions will not be directly callable after loading.\n"
     ]
    },
    {
     "name": "stdout",
     "output_type": "stream",
     "text": [
      "INFO:tensorflow:Assets written to: /var/folders/jr/24zqc_wx7m7bq37h2_n26wbw0000gn/T/tmp7qcuhwj1/model/data/model/assets\n"
     ]
    },
    {
     "name": "stderr",
     "output_type": "stream",
     "text": [
      "INFO:tensorflow:Assets written to: /var/folders/jr/24zqc_wx7m7bq37h2_n26wbw0000gn/T/tmp7qcuhwj1/model/data/model/assets\n",
      "2024/09/16 09:35:26 WARNING mlflow.models.model: Model logged without a signature and input example. Please set `input_example` parameter when logging the model to auto infer the model signature.\n"
     ]
    },
    {
     "name": "stdout",
     "output_type": "stream",
     "text": [
      "Finished training with optimizer=sgd, epochs=2, filters=64, num_layers=3\n",
      "Epoch 1/2\n",
      "1875/1875 [==============================] - 8s 4ms/step - loss: 0.1845 - accuracy: 0.9450 - val_loss: 0.0706 - val_accuracy: 0.9778\n",
      "Epoch 2/2\n",
      "1875/1875 [==============================] - 8s 4ms/step - loss: 0.0644 - accuracy: 0.9803 - val_loss: 0.0607 - val_accuracy: 0.9798\n",
      "1/1 [==============================] - 0s 30ms/step\n"
     ]
    },
    {
     "name": "stderr",
     "output_type": "stream",
     "text": [
      "WARNING:absl:Found untraced functions such as _jit_compiled_convolution_op while saving (showing 1 of 1). These functions will not be directly callable after loading.\n"
     ]
    },
    {
     "name": "stdout",
     "output_type": "stream",
     "text": [
      "INFO:tensorflow:Assets written to: /var/folders/jr/24zqc_wx7m7bq37h2_n26wbw0000gn/T/tmp_v3hici3/model/data/model/assets\n"
     ]
    },
    {
     "name": "stderr",
     "output_type": "stream",
     "text": [
      "INFO:tensorflow:Assets written to: /var/folders/jr/24zqc_wx7m7bq37h2_n26wbw0000gn/T/tmp_v3hici3/model/data/model/assets\n"
     ]
    },
    {
     "name": "stdout",
     "output_type": "stream",
     "text": [
      "313/313 - 0s - loss: 0.0607 - accuracy: 0.9798 - 367ms/epoch - 1ms/step\n"
     ]
    },
    {
     "name": "stderr",
     "output_type": "stream",
     "text": [
      "2024/09/16 09:35:47 WARNING mlflow.tensorflow: You are saving a TensorFlow Core model or Keras model without a signature. Inference with mlflow.pyfunc.spark_udf() will not work unless the model's pyfunc representation accepts pandas DataFrames as inference inputs.\n",
      "WARNING:absl:Found untraced functions such as _jit_compiled_convolution_op while saving (showing 1 of 1). These functions will not be directly callable after loading.\n"
     ]
    },
    {
     "name": "stdout",
     "output_type": "stream",
     "text": [
      "INFO:tensorflow:Assets written to: /var/folders/jr/24zqc_wx7m7bq37h2_n26wbw0000gn/T/tmpefxj8aqx/model/data/model/assets\n"
     ]
    },
    {
     "name": "stderr",
     "output_type": "stream",
     "text": [
      "INFO:tensorflow:Assets written to: /var/folders/jr/24zqc_wx7m7bq37h2_n26wbw0000gn/T/tmpefxj8aqx/model/data/model/assets\n",
      "2024/09/16 09:35:49 WARNING mlflow.models.model: Model logged without a signature and input example. Please set `input_example` parameter when logging the model to auto infer the model signature.\n"
     ]
    },
    {
     "name": "stdout",
     "output_type": "stream",
     "text": [
      "Finished training with optimizer=rmsprop, epochs=2, filters=16, num_layers=1\n"
     ]
    }
   ],
   "source": [
    "for config in configurations:\n",
    "    train_model(config)"
   ]
  },
  {
   "cell_type": "code",
   "execution_count": null,
   "id": "6890f9a8-3cba-4bc3-a84a-8572eb643501",
   "metadata": {},
   "outputs": [],
   "source": []
  }
 ],
 "metadata": {
  "kernelspec": {
   "display_name": "Python 3 (ipykernel)",
   "language": "python",
   "name": "python3"
  },
  "language_info": {
   "codemirror_mode": {
    "name": "ipython",
    "version": 3
   },
   "file_extension": ".py",
   "mimetype": "text/x-python",
   "name": "python",
   "nbconvert_exporter": "python",
   "pygments_lexer": "ipython3",
   "version": "3.11.5"
  }
 },
 "nbformat": 4,
 "nbformat_minor": 5
}
